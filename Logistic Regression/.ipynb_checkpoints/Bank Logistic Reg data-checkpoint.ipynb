{
 "cells": [
  {
   "cell_type": "code",
   "execution_count": 52,
   "metadata": {},
   "outputs": [],
   "source": [
    "import pandas  as pd\n",
    "import numpy as np \n",
    "import seaborn as  sns\n",
    "from sklearn.linear_model import LogisticRegression"
   ]
  },
  {
   "cell_type": "code",
   "execution_count": 53,
   "metadata": {},
   "outputs": [],
   "source": [
    "data=pd.read_csv(r\"D:\\Excel R\\Data Science Assignments\\Logistic Regression\\bank_data.csv\")"
   ]
  },
  {
   "cell_type": "code",
   "execution_count": 54,
   "metadata": {},
   "outputs": [
    {
     "data": {
      "text/html": [
       "<div>\n",
       "<style scoped>\n",
       "    .dataframe tbody tr th:only-of-type {\n",
       "        vertical-align: middle;\n",
       "    }\n",
       "\n",
       "    .dataframe tbody tr th {\n",
       "        vertical-align: top;\n",
       "    }\n",
       "\n",
       "    .dataframe thead th {\n",
       "        text-align: right;\n",
       "    }\n",
       "</style>\n",
       "<table border=\"1\" class=\"dataframe\">\n",
       "  <thead>\n",
       "    <tr style=\"text-align: right;\">\n",
       "      <th></th>\n",
       "      <th>age</th>\n",
       "      <th>default</th>\n",
       "      <th>balance</th>\n",
       "      <th>housing</th>\n",
       "      <th>loan</th>\n",
       "      <th>duration</th>\n",
       "      <th>campaign</th>\n",
       "      <th>pdays</th>\n",
       "      <th>previous</th>\n",
       "      <th>poutfailure</th>\n",
       "      <th>...</th>\n",
       "      <th>johousemaid</th>\n",
       "      <th>jomanagement</th>\n",
       "      <th>joretired</th>\n",
       "      <th>joself.employed</th>\n",
       "      <th>joservices</th>\n",
       "      <th>jostudent</th>\n",
       "      <th>jotechnician</th>\n",
       "      <th>jounemployed</th>\n",
       "      <th>jounknown</th>\n",
       "      <th>y</th>\n",
       "    </tr>\n",
       "  </thead>\n",
       "  <tbody>\n",
       "    <tr>\n",
       "      <th>0</th>\n",
       "      <td>58</td>\n",
       "      <td>0</td>\n",
       "      <td>2143</td>\n",
       "      <td>1</td>\n",
       "      <td>0</td>\n",
       "      <td>261</td>\n",
       "      <td>1</td>\n",
       "      <td>-1</td>\n",
       "      <td>0</td>\n",
       "      <td>0</td>\n",
       "      <td>...</td>\n",
       "      <td>0</td>\n",
       "      <td>1</td>\n",
       "      <td>0</td>\n",
       "      <td>0</td>\n",
       "      <td>0</td>\n",
       "      <td>0</td>\n",
       "      <td>0</td>\n",
       "      <td>0</td>\n",
       "      <td>0</td>\n",
       "      <td>0</td>\n",
       "    </tr>\n",
       "    <tr>\n",
       "      <th>1</th>\n",
       "      <td>44</td>\n",
       "      <td>0</td>\n",
       "      <td>29</td>\n",
       "      <td>1</td>\n",
       "      <td>0</td>\n",
       "      <td>151</td>\n",
       "      <td>1</td>\n",
       "      <td>-1</td>\n",
       "      <td>0</td>\n",
       "      <td>0</td>\n",
       "      <td>...</td>\n",
       "      <td>0</td>\n",
       "      <td>0</td>\n",
       "      <td>0</td>\n",
       "      <td>0</td>\n",
       "      <td>0</td>\n",
       "      <td>0</td>\n",
       "      <td>1</td>\n",
       "      <td>0</td>\n",
       "      <td>0</td>\n",
       "      <td>0</td>\n",
       "    </tr>\n",
       "    <tr>\n",
       "      <th>2</th>\n",
       "      <td>33</td>\n",
       "      <td>0</td>\n",
       "      <td>2</td>\n",
       "      <td>1</td>\n",
       "      <td>1</td>\n",
       "      <td>76</td>\n",
       "      <td>1</td>\n",
       "      <td>-1</td>\n",
       "      <td>0</td>\n",
       "      <td>0</td>\n",
       "      <td>...</td>\n",
       "      <td>0</td>\n",
       "      <td>0</td>\n",
       "      <td>0</td>\n",
       "      <td>0</td>\n",
       "      <td>0</td>\n",
       "      <td>0</td>\n",
       "      <td>0</td>\n",
       "      <td>0</td>\n",
       "      <td>0</td>\n",
       "      <td>0</td>\n",
       "    </tr>\n",
       "    <tr>\n",
       "      <th>3</th>\n",
       "      <td>47</td>\n",
       "      <td>0</td>\n",
       "      <td>1506</td>\n",
       "      <td>1</td>\n",
       "      <td>0</td>\n",
       "      <td>92</td>\n",
       "      <td>1</td>\n",
       "      <td>-1</td>\n",
       "      <td>0</td>\n",
       "      <td>0</td>\n",
       "      <td>...</td>\n",
       "      <td>0</td>\n",
       "      <td>0</td>\n",
       "      <td>0</td>\n",
       "      <td>0</td>\n",
       "      <td>0</td>\n",
       "      <td>0</td>\n",
       "      <td>0</td>\n",
       "      <td>0</td>\n",
       "      <td>0</td>\n",
       "      <td>0</td>\n",
       "    </tr>\n",
       "    <tr>\n",
       "      <th>4</th>\n",
       "      <td>33</td>\n",
       "      <td>0</td>\n",
       "      <td>1</td>\n",
       "      <td>0</td>\n",
       "      <td>0</td>\n",
       "      <td>198</td>\n",
       "      <td>1</td>\n",
       "      <td>-1</td>\n",
       "      <td>0</td>\n",
       "      <td>0</td>\n",
       "      <td>...</td>\n",
       "      <td>0</td>\n",
       "      <td>0</td>\n",
       "      <td>0</td>\n",
       "      <td>0</td>\n",
       "      <td>0</td>\n",
       "      <td>0</td>\n",
       "      <td>0</td>\n",
       "      <td>0</td>\n",
       "      <td>1</td>\n",
       "      <td>0</td>\n",
       "    </tr>\n",
       "    <tr>\n",
       "      <th>...</th>\n",
       "      <td>...</td>\n",
       "      <td>...</td>\n",
       "      <td>...</td>\n",
       "      <td>...</td>\n",
       "      <td>...</td>\n",
       "      <td>...</td>\n",
       "      <td>...</td>\n",
       "      <td>...</td>\n",
       "      <td>...</td>\n",
       "      <td>...</td>\n",
       "      <td>...</td>\n",
       "      <td>...</td>\n",
       "      <td>...</td>\n",
       "      <td>...</td>\n",
       "      <td>...</td>\n",
       "      <td>...</td>\n",
       "      <td>...</td>\n",
       "      <td>...</td>\n",
       "      <td>...</td>\n",
       "      <td>...</td>\n",
       "      <td>...</td>\n",
       "    </tr>\n",
       "    <tr>\n",
       "      <th>45206</th>\n",
       "      <td>51</td>\n",
       "      <td>0</td>\n",
       "      <td>825</td>\n",
       "      <td>0</td>\n",
       "      <td>0</td>\n",
       "      <td>977</td>\n",
       "      <td>3</td>\n",
       "      <td>-1</td>\n",
       "      <td>0</td>\n",
       "      <td>0</td>\n",
       "      <td>...</td>\n",
       "      <td>0</td>\n",
       "      <td>0</td>\n",
       "      <td>0</td>\n",
       "      <td>0</td>\n",
       "      <td>0</td>\n",
       "      <td>0</td>\n",
       "      <td>1</td>\n",
       "      <td>0</td>\n",
       "      <td>0</td>\n",
       "      <td>1</td>\n",
       "    </tr>\n",
       "    <tr>\n",
       "      <th>45207</th>\n",
       "      <td>71</td>\n",
       "      <td>0</td>\n",
       "      <td>1729</td>\n",
       "      <td>0</td>\n",
       "      <td>0</td>\n",
       "      <td>456</td>\n",
       "      <td>2</td>\n",
       "      <td>-1</td>\n",
       "      <td>0</td>\n",
       "      <td>0</td>\n",
       "      <td>...</td>\n",
       "      <td>0</td>\n",
       "      <td>0</td>\n",
       "      <td>1</td>\n",
       "      <td>0</td>\n",
       "      <td>0</td>\n",
       "      <td>0</td>\n",
       "      <td>0</td>\n",
       "      <td>0</td>\n",
       "      <td>0</td>\n",
       "      <td>1</td>\n",
       "    </tr>\n",
       "    <tr>\n",
       "      <th>45208</th>\n",
       "      <td>72</td>\n",
       "      <td>0</td>\n",
       "      <td>5715</td>\n",
       "      <td>0</td>\n",
       "      <td>0</td>\n",
       "      <td>1127</td>\n",
       "      <td>5</td>\n",
       "      <td>184</td>\n",
       "      <td>3</td>\n",
       "      <td>0</td>\n",
       "      <td>...</td>\n",
       "      <td>0</td>\n",
       "      <td>0</td>\n",
       "      <td>1</td>\n",
       "      <td>0</td>\n",
       "      <td>0</td>\n",
       "      <td>0</td>\n",
       "      <td>0</td>\n",
       "      <td>0</td>\n",
       "      <td>0</td>\n",
       "      <td>1</td>\n",
       "    </tr>\n",
       "    <tr>\n",
       "      <th>45209</th>\n",
       "      <td>57</td>\n",
       "      <td>0</td>\n",
       "      <td>668</td>\n",
       "      <td>0</td>\n",
       "      <td>0</td>\n",
       "      <td>508</td>\n",
       "      <td>4</td>\n",
       "      <td>-1</td>\n",
       "      <td>0</td>\n",
       "      <td>0</td>\n",
       "      <td>...</td>\n",
       "      <td>0</td>\n",
       "      <td>0</td>\n",
       "      <td>0</td>\n",
       "      <td>0</td>\n",
       "      <td>0</td>\n",
       "      <td>0</td>\n",
       "      <td>0</td>\n",
       "      <td>0</td>\n",
       "      <td>0</td>\n",
       "      <td>0</td>\n",
       "    </tr>\n",
       "    <tr>\n",
       "      <th>45210</th>\n",
       "      <td>37</td>\n",
       "      <td>0</td>\n",
       "      <td>2971</td>\n",
       "      <td>0</td>\n",
       "      <td>0</td>\n",
       "      <td>361</td>\n",
       "      <td>2</td>\n",
       "      <td>188</td>\n",
       "      <td>11</td>\n",
       "      <td>0</td>\n",
       "      <td>...</td>\n",
       "      <td>0</td>\n",
       "      <td>0</td>\n",
       "      <td>0</td>\n",
       "      <td>0</td>\n",
       "      <td>0</td>\n",
       "      <td>0</td>\n",
       "      <td>0</td>\n",
       "      <td>0</td>\n",
       "      <td>0</td>\n",
       "      <td>0</td>\n",
       "    </tr>\n",
       "  </tbody>\n",
       "</table>\n",
       "<p>45211 rows × 32 columns</p>\n",
       "</div>"
      ],
      "text/plain": [
       "       age  default  balance  housing  loan  duration  campaign  pdays  \\\n",
       "0       58        0     2143        1     0       261         1     -1   \n",
       "1       44        0       29        1     0       151         1     -1   \n",
       "2       33        0        2        1     1        76         1     -1   \n",
       "3       47        0     1506        1     0        92         1     -1   \n",
       "4       33        0        1        0     0       198         1     -1   \n",
       "...    ...      ...      ...      ...   ...       ...       ...    ...   \n",
       "45206   51        0      825        0     0       977         3     -1   \n",
       "45207   71        0     1729        0     0       456         2     -1   \n",
       "45208   72        0     5715        0     0      1127         5    184   \n",
       "45209   57        0      668        0     0       508         4     -1   \n",
       "45210   37        0     2971        0     0       361         2    188   \n",
       "\n",
       "       previous  poutfailure  ...  johousemaid  jomanagement  joretired  \\\n",
       "0             0            0  ...            0             1          0   \n",
       "1             0            0  ...            0             0          0   \n",
       "2             0            0  ...            0             0          0   \n",
       "3             0            0  ...            0             0          0   \n",
       "4             0            0  ...            0             0          0   \n",
       "...         ...          ...  ...          ...           ...        ...   \n",
       "45206         0            0  ...            0             0          0   \n",
       "45207         0            0  ...            0             0          1   \n",
       "45208         3            0  ...            0             0          1   \n",
       "45209         0            0  ...            0             0          0   \n",
       "45210        11            0  ...            0             0          0   \n",
       "\n",
       "       joself.employed  joservices  jostudent  jotechnician  jounemployed  \\\n",
       "0                    0           0          0             0             0   \n",
       "1                    0           0          0             1             0   \n",
       "2                    0           0          0             0             0   \n",
       "3                    0           0          0             0             0   \n",
       "4                    0           0          0             0             0   \n",
       "...                ...         ...        ...           ...           ...   \n",
       "45206                0           0          0             1             0   \n",
       "45207                0           0          0             0             0   \n",
       "45208                0           0          0             0             0   \n",
       "45209                0           0          0             0             0   \n",
       "45210                0           0          0             0             0   \n",
       "\n",
       "       jounknown  y  \n",
       "0              0  0  \n",
       "1              0  0  \n",
       "2              0  0  \n",
       "3              0  0  \n",
       "4              1  0  \n",
       "...          ... ..  \n",
       "45206          0  1  \n",
       "45207          0  1  \n",
       "45208          0  1  \n",
       "45209          0  0  \n",
       "45210          0  0  \n",
       "\n",
       "[45211 rows x 32 columns]"
      ]
     },
     "execution_count": 54,
     "metadata": {},
     "output_type": "execute_result"
    }
   ],
   "source": [
    "data"
   ]
  },
  {
   "cell_type": "code",
   "execution_count": 55,
   "metadata": {},
   "outputs": [
    {
     "data": {
      "text/plain": [
       "(45211, 32)"
      ]
     },
     "execution_count": 55,
     "metadata": {},
     "output_type": "execute_result"
    }
   ],
   "source": [
    "data.shape"
   ]
  },
  {
   "cell_type": "code",
   "execution_count": 56,
   "metadata": {},
   "outputs": [
    {
     "data": {
      "text/plain": [
       "Index(['age', 'default', 'balance', 'housing', 'loan', 'duration', 'campaign',\n",
       "       'pdays', 'previous', 'poutfailure', 'poutother', 'poutsuccess',\n",
       "       'poutunknown', 'con_cellular', 'con_telephone', 'con_unknown',\n",
       "       'divorced', 'married', 'single', 'joadmin.', 'joblue.collar',\n",
       "       'joentrepreneur', 'johousemaid', 'jomanagement', 'joretired',\n",
       "       'joself.employed', 'joservices', 'jostudent', 'jotechnician',\n",
       "       'jounemployed', 'jounknown', 'y'],\n",
       "      dtype='object')"
      ]
     },
     "execution_count": 56,
     "metadata": {},
     "output_type": "execute_result"
    }
   ],
   "source": [
    "data.columns"
   ]
  },
  {
   "cell_type": "code",
   "execution_count": 57,
   "metadata": {},
   "outputs": [
    {
     "data": {
      "text/plain": [
       "age                int64\n",
       "default            int64\n",
       "balance            int64\n",
       "housing            int64\n",
       "loan               int64\n",
       "duration           int64\n",
       "campaign           int64\n",
       "pdays              int64\n",
       "previous           int64\n",
       "poutfailure        int64\n",
       "poutother          int64\n",
       "poutsuccess        int64\n",
       "poutunknown        int64\n",
       "con_cellular       int64\n",
       "con_telephone      int64\n",
       "con_unknown        int64\n",
       "divorced           int64\n",
       "married            int64\n",
       "single             int64\n",
       "joadmin.           int64\n",
       "joblue.collar      int64\n",
       "joentrepreneur     int64\n",
       "johousemaid        int64\n",
       "jomanagement       int64\n",
       "joretired          int64\n",
       "joself.employed    int64\n",
       "joservices         int64\n",
       "jostudent          int64\n",
       "jotechnician       int64\n",
       "jounemployed       int64\n",
       "jounknown          int64\n",
       "y                  int64\n",
       "dtype: object"
      ]
     },
     "execution_count": 57,
     "metadata": {},
     "output_type": "execute_result"
    }
   ],
   "source": [
    "data.dtypes"
   ]
  },
  {
   "cell_type": "markdown",
   "metadata": {},
   "source": [
    "Data  Preprocessing "
   ]
  },
  {
   "cell_type": "markdown",
   "metadata": {},
   "source": [
    "4 Bussiness Moments"
   ]
  },
  {
   "cell_type": "code",
   "execution_count": 58,
   "metadata": {},
   "outputs": [
    {
     "data": {
      "text/plain": [
       "age                  40.936210\n",
       "default               0.018027\n",
       "balance            1362.272058\n",
       "housing               0.555838\n",
       "loan                  0.160226\n",
       "duration            258.163080\n",
       "campaign              2.763841\n",
       "pdays                40.197828\n",
       "previous              0.580323\n",
       "poutfailure           0.108403\n",
       "poutother             0.040698\n",
       "poutsuccess           0.033421\n",
       "poutunknown           0.817478\n",
       "con_cellular          0.647741\n",
       "con_telephone         0.064276\n",
       "con_unknown           0.287983\n",
       "divorced              0.115171\n",
       "married               0.601933\n",
       "single                0.282896\n",
       "joadmin.              0.114375\n",
       "joblue.collar         0.215257\n",
       "joentrepreneur        0.032890\n",
       "johousemaid           0.027427\n",
       "jomanagement          0.209197\n",
       "joretired             0.050076\n",
       "joself.employed       0.034925\n",
       "joservices            0.091880\n",
       "jostudent             0.020747\n",
       "jotechnician          0.168034\n",
       "jounemployed          0.028820\n",
       "jounknown             0.006370\n",
       "y                     0.116985\n",
       "dtype: float64"
      ]
     },
     "execution_count": 58,
     "metadata": {},
     "output_type": "execute_result"
    }
   ],
   "source": [
    "data.mean()"
   ]
  },
  {
   "cell_type": "code",
   "execution_count": 59,
   "metadata": {},
   "outputs": [
    {
     "data": {
      "text/plain": [
       "age                 39.0\n",
       "default              0.0\n",
       "balance            448.0\n",
       "housing              1.0\n",
       "loan                 0.0\n",
       "duration           180.0\n",
       "campaign             2.0\n",
       "pdays               -1.0\n",
       "previous             0.0\n",
       "poutfailure          0.0\n",
       "poutother            0.0\n",
       "poutsuccess          0.0\n",
       "poutunknown          1.0\n",
       "con_cellular         1.0\n",
       "con_telephone        0.0\n",
       "con_unknown          0.0\n",
       "divorced             0.0\n",
       "married              1.0\n",
       "single               0.0\n",
       "joadmin.             0.0\n",
       "joblue.collar        0.0\n",
       "joentrepreneur       0.0\n",
       "johousemaid          0.0\n",
       "jomanagement         0.0\n",
       "joretired            0.0\n",
       "joself.employed      0.0\n",
       "joservices           0.0\n",
       "jostudent            0.0\n",
       "jotechnician         0.0\n",
       "jounemployed         0.0\n",
       "jounknown            0.0\n",
       "y                    0.0\n",
       "dtype: float64"
      ]
     },
     "execution_count": 59,
     "metadata": {},
     "output_type": "execute_result"
    }
   ],
   "source": [
    "data.median()"
   ]
  },
  {
   "cell_type": "code",
   "execution_count": 60,
   "metadata": {},
   "outputs": [
    {
     "data": {
      "text/plain": [
       "age                1.127581e+02\n",
       "default            1.770202e-02\n",
       "balance            9.270599e+06\n",
       "housing            2.468876e-01\n",
       "loan               1.345569e-01\n",
       "duration           6.632057e+04\n",
       "campaign           9.597733e+00\n",
       "pdays              1.002577e+04\n",
       "previous           5.305841e+00\n",
       "poutfailure        9.665379e-02\n",
       "poutother          3.904259e-02\n",
       "poutsuccess        3.230482e-02\n",
       "poutunknown        1.492110e-01\n",
       "con_cellular       2.281778e-01\n",
       "con_telephone      6.014627e-02\n",
       "con_unknown        2.050533e-01\n",
       "divorced           1.019090e-01\n",
       "married            2.396149e-01\n",
       "single             2.028702e-01\n",
       "joadmin.           1.012955e-01\n",
       "joblue.collar      1.689254e-01\n",
       "joentrepreneur     3.180916e-02\n",
       "johousemaid        2.667531e-02\n",
       "jomanagement       1.654372e-01\n",
       "joretired          4.756972e-02\n",
       "joself.employed    3.370611e-02\n",
       "joservices         8.344015e-02\n",
       "jostudent          2.031717e-02\n",
       "jotechnician       1.398019e-01\n",
       "jounemployed       2.799042e-02\n",
       "jounknown          6.329693e-03\n",
       "y                  1.033016e-01\n",
       "dtype: float64"
      ]
     },
     "execution_count": 60,
     "metadata": {},
     "output_type": "execute_result"
    }
   ],
   "source": [
    "data.var()"
   ]
  },
  {
   "cell_type": "code",
   "execution_count": 61,
   "metadata": {},
   "outputs": [
    {
     "data": {
      "text/plain": [
       "age                  10.618762\n",
       "default               0.133049\n",
       "balance            3044.765829\n",
       "housing               0.496878\n",
       "loan                  0.366820\n",
       "duration            257.527812\n",
       "campaign              3.098021\n",
       "pdays               100.128746\n",
       "previous              2.303441\n",
       "poutfailure           0.310892\n",
       "poutother             0.197592\n",
       "poutsuccess           0.179735\n",
       "poutunknown           0.386278\n",
       "con_cellular          0.477680\n",
       "con_telephone         0.245247\n",
       "con_unknown           0.452828\n",
       "divorced              0.319232\n",
       "married               0.489505\n",
       "single                0.450411\n",
       "joadmin.              0.318269\n",
       "joblue.collar         0.411005\n",
       "joentrepreneur        0.178351\n",
       "johousemaid           0.163326\n",
       "jomanagement          0.406740\n",
       "joretired             0.218105\n",
       "joself.employed       0.183592\n",
       "joservices            0.288860\n",
       "jostudent             0.142538\n",
       "jotechnician          0.373901\n",
       "jounemployed          0.167303\n",
       "jounknown             0.079559\n",
       "y                     0.321406\n",
       "dtype: float64"
      ]
     },
     "execution_count": 61,
     "metadata": {},
     "output_type": "execute_result"
    }
   ],
   "source": [
    "data.std()"
   ]
  },
  {
   "cell_type": "code",
   "execution_count": 62,
   "metadata": {},
   "outputs": [
    {
     "data": {
      "text/plain": [
       "age                 0.684818\n",
       "default             7.245375\n",
       "balance             8.360308\n",
       "housing            -0.224766\n",
       "loan                1.852617\n",
       "duration            3.144318\n",
       "campaign            4.898650\n",
       "pdays               2.615715\n",
       "previous           41.846454\n",
       "poutfailure         2.519297\n",
       "poutother           4.649199\n",
       "poutsuccess         5.192072\n",
       "poutunknown        -1.643851\n",
       "con_cellular       -0.618604\n",
       "con_telephone       3.553497\n",
       "con_unknown         0.936454\n",
       "divorced            2.411075\n",
       "married            -0.416493\n",
       "single              0.964070\n",
       "joadmin.            2.423369\n",
       "joblue.collar       1.385652\n",
       "joentrepreneur      5.238320\n",
       "johousemaid         5.787133\n",
       "jomanagement        1.429986\n",
       "joretired           4.125939\n",
       "joself.employed     5.066613\n",
       "joservices          2.825851\n",
       "jostudent           6.724846\n",
       "jotechnician        1.775767\n",
       "jounemployed        5.632886\n",
       "jounknown          12.409644\n",
       "y                   2.383480\n",
       "dtype: float64"
      ]
     },
     "execution_count": 62,
     "metadata": {},
     "output_type": "execute_result"
    }
   ],
   "source": [
    "data.skew()"
   ]
  },
  {
   "cell_type": "code",
   "execution_count": 63,
   "metadata": {},
   "outputs": [
    {
     "data": {
      "text/plain": [
       "age                   0.319570\n",
       "default              50.497694\n",
       "balance             140.751547\n",
       "housing              -1.949566\n",
       "loan                  1.432253\n",
       "duration             18.153915\n",
       "campaign             39.249651\n",
       "pdays                 6.935195\n",
       "previous           4506.860660\n",
       "poutfailure           4.347048\n",
       "poutother            19.615922\n",
       "poutsuccess          24.958714\n",
       "poutunknown           0.702278\n",
       "con_cellular         -1.617401\n",
       "con_telephone        10.627811\n",
       "con_unknown          -1.123104\n",
       "divorced              3.813451\n",
       "married              -1.826614\n",
       "single               -1.070617\n",
       "joadmin.              3.872890\n",
       "joblue.collar        -0.079971\n",
       "joentrepreneur       25.441124\n",
       "johousemaid          31.492300\n",
       "jomanagement          0.044861\n",
       "joretired            15.024033\n",
       "joself.employed      23.671618\n",
       "joservices            5.985698\n",
       "jostudent            43.225460\n",
       "jotechnician          1.153398\n",
       "jounemployed         29.730717\n",
       "jounknown           152.005993\n",
       "y                     3.681142\n",
       "dtype: float64"
      ]
     },
     "execution_count": 63,
     "metadata": {},
     "output_type": "execute_result"
    }
   ],
   "source": [
    "data.kurt()"
   ]
  },
  {
   "cell_type": "code",
   "execution_count": 64,
   "metadata": {},
   "outputs": [
    {
     "data": {
      "text/html": [
       "<div>\n",
       "<style scoped>\n",
       "    .dataframe tbody tr th:only-of-type {\n",
       "        vertical-align: middle;\n",
       "    }\n",
       "\n",
       "    .dataframe tbody tr th {\n",
       "        vertical-align: top;\n",
       "    }\n",
       "\n",
       "    .dataframe thead th {\n",
       "        text-align: right;\n",
       "    }\n",
       "</style>\n",
       "<table border=\"1\" class=\"dataframe\">\n",
       "  <thead>\n",
       "    <tr style=\"text-align: right;\">\n",
       "      <th></th>\n",
       "      <th>age</th>\n",
       "      <th>default</th>\n",
       "      <th>balance</th>\n",
       "      <th>housing</th>\n",
       "      <th>loan</th>\n",
       "      <th>duration</th>\n",
       "      <th>campaign</th>\n",
       "      <th>pdays</th>\n",
       "      <th>previous</th>\n",
       "      <th>poutfailure</th>\n",
       "      <th>...</th>\n",
       "      <th>johousemaid</th>\n",
       "      <th>jomanagement</th>\n",
       "      <th>joretired</th>\n",
       "      <th>joself.employed</th>\n",
       "      <th>joservices</th>\n",
       "      <th>jostudent</th>\n",
       "      <th>jotechnician</th>\n",
       "      <th>jounemployed</th>\n",
       "      <th>jounknown</th>\n",
       "      <th>y</th>\n",
       "    </tr>\n",
       "  </thead>\n",
       "  <tbody>\n",
       "    <tr>\n",
       "      <th>count</th>\n",
       "      <td>45211.000000</td>\n",
       "      <td>45211.000000</td>\n",
       "      <td>45211.000000</td>\n",
       "      <td>45211.000000</td>\n",
       "      <td>45211.000000</td>\n",
       "      <td>45211.000000</td>\n",
       "      <td>45211.000000</td>\n",
       "      <td>45211.000000</td>\n",
       "      <td>45211.000000</td>\n",
       "      <td>45211.000000</td>\n",
       "      <td>...</td>\n",
       "      <td>45211.000000</td>\n",
       "      <td>45211.000000</td>\n",
       "      <td>45211.000000</td>\n",
       "      <td>45211.000000</td>\n",
       "      <td>45211.00000</td>\n",
       "      <td>45211.000000</td>\n",
       "      <td>45211.000000</td>\n",
       "      <td>45211.000000</td>\n",
       "      <td>45211.000000</td>\n",
       "      <td>45211.000000</td>\n",
       "    </tr>\n",
       "    <tr>\n",
       "      <th>mean</th>\n",
       "      <td>40.936210</td>\n",
       "      <td>0.018027</td>\n",
       "      <td>1362.272058</td>\n",
       "      <td>0.555838</td>\n",
       "      <td>0.160226</td>\n",
       "      <td>258.163080</td>\n",
       "      <td>2.763841</td>\n",
       "      <td>40.197828</td>\n",
       "      <td>0.580323</td>\n",
       "      <td>0.108403</td>\n",
       "      <td>...</td>\n",
       "      <td>0.027427</td>\n",
       "      <td>0.209197</td>\n",
       "      <td>0.050076</td>\n",
       "      <td>0.034925</td>\n",
       "      <td>0.09188</td>\n",
       "      <td>0.020747</td>\n",
       "      <td>0.168034</td>\n",
       "      <td>0.028820</td>\n",
       "      <td>0.006370</td>\n",
       "      <td>0.116985</td>\n",
       "    </tr>\n",
       "    <tr>\n",
       "      <th>std</th>\n",
       "      <td>10.618762</td>\n",
       "      <td>0.133049</td>\n",
       "      <td>3044.765829</td>\n",
       "      <td>0.496878</td>\n",
       "      <td>0.366820</td>\n",
       "      <td>257.527812</td>\n",
       "      <td>3.098021</td>\n",
       "      <td>100.128746</td>\n",
       "      <td>2.303441</td>\n",
       "      <td>0.310892</td>\n",
       "      <td>...</td>\n",
       "      <td>0.163326</td>\n",
       "      <td>0.406740</td>\n",
       "      <td>0.218105</td>\n",
       "      <td>0.183592</td>\n",
       "      <td>0.28886</td>\n",
       "      <td>0.142538</td>\n",
       "      <td>0.373901</td>\n",
       "      <td>0.167303</td>\n",
       "      <td>0.079559</td>\n",
       "      <td>0.321406</td>\n",
       "    </tr>\n",
       "    <tr>\n",
       "      <th>min</th>\n",
       "      <td>18.000000</td>\n",
       "      <td>0.000000</td>\n",
       "      <td>-8019.000000</td>\n",
       "      <td>0.000000</td>\n",
       "      <td>0.000000</td>\n",
       "      <td>0.000000</td>\n",
       "      <td>1.000000</td>\n",
       "      <td>-1.000000</td>\n",
       "      <td>0.000000</td>\n",
       "      <td>0.000000</td>\n",
       "      <td>...</td>\n",
       "      <td>0.000000</td>\n",
       "      <td>0.000000</td>\n",
       "      <td>0.000000</td>\n",
       "      <td>0.000000</td>\n",
       "      <td>0.00000</td>\n",
       "      <td>0.000000</td>\n",
       "      <td>0.000000</td>\n",
       "      <td>0.000000</td>\n",
       "      <td>0.000000</td>\n",
       "      <td>0.000000</td>\n",
       "    </tr>\n",
       "    <tr>\n",
       "      <th>25%</th>\n",
       "      <td>33.000000</td>\n",
       "      <td>0.000000</td>\n",
       "      <td>72.000000</td>\n",
       "      <td>0.000000</td>\n",
       "      <td>0.000000</td>\n",
       "      <td>103.000000</td>\n",
       "      <td>1.000000</td>\n",
       "      <td>-1.000000</td>\n",
       "      <td>0.000000</td>\n",
       "      <td>0.000000</td>\n",
       "      <td>...</td>\n",
       "      <td>0.000000</td>\n",
       "      <td>0.000000</td>\n",
       "      <td>0.000000</td>\n",
       "      <td>0.000000</td>\n",
       "      <td>0.00000</td>\n",
       "      <td>0.000000</td>\n",
       "      <td>0.000000</td>\n",
       "      <td>0.000000</td>\n",
       "      <td>0.000000</td>\n",
       "      <td>0.000000</td>\n",
       "    </tr>\n",
       "    <tr>\n",
       "      <th>50%</th>\n",
       "      <td>39.000000</td>\n",
       "      <td>0.000000</td>\n",
       "      <td>448.000000</td>\n",
       "      <td>1.000000</td>\n",
       "      <td>0.000000</td>\n",
       "      <td>180.000000</td>\n",
       "      <td>2.000000</td>\n",
       "      <td>-1.000000</td>\n",
       "      <td>0.000000</td>\n",
       "      <td>0.000000</td>\n",
       "      <td>...</td>\n",
       "      <td>0.000000</td>\n",
       "      <td>0.000000</td>\n",
       "      <td>0.000000</td>\n",
       "      <td>0.000000</td>\n",
       "      <td>0.00000</td>\n",
       "      <td>0.000000</td>\n",
       "      <td>0.000000</td>\n",
       "      <td>0.000000</td>\n",
       "      <td>0.000000</td>\n",
       "      <td>0.000000</td>\n",
       "    </tr>\n",
       "    <tr>\n",
       "      <th>75%</th>\n",
       "      <td>48.000000</td>\n",
       "      <td>0.000000</td>\n",
       "      <td>1428.000000</td>\n",
       "      <td>1.000000</td>\n",
       "      <td>0.000000</td>\n",
       "      <td>319.000000</td>\n",
       "      <td>3.000000</td>\n",
       "      <td>-1.000000</td>\n",
       "      <td>0.000000</td>\n",
       "      <td>0.000000</td>\n",
       "      <td>...</td>\n",
       "      <td>0.000000</td>\n",
       "      <td>0.000000</td>\n",
       "      <td>0.000000</td>\n",
       "      <td>0.000000</td>\n",
       "      <td>0.00000</td>\n",
       "      <td>0.000000</td>\n",
       "      <td>0.000000</td>\n",
       "      <td>0.000000</td>\n",
       "      <td>0.000000</td>\n",
       "      <td>0.000000</td>\n",
       "    </tr>\n",
       "    <tr>\n",
       "      <th>max</th>\n",
       "      <td>95.000000</td>\n",
       "      <td>1.000000</td>\n",
       "      <td>102127.000000</td>\n",
       "      <td>1.000000</td>\n",
       "      <td>1.000000</td>\n",
       "      <td>4918.000000</td>\n",
       "      <td>63.000000</td>\n",
       "      <td>871.000000</td>\n",
       "      <td>275.000000</td>\n",
       "      <td>1.000000</td>\n",
       "      <td>...</td>\n",
       "      <td>1.000000</td>\n",
       "      <td>1.000000</td>\n",
       "      <td>1.000000</td>\n",
       "      <td>1.000000</td>\n",
       "      <td>1.00000</td>\n",
       "      <td>1.000000</td>\n",
       "      <td>1.000000</td>\n",
       "      <td>1.000000</td>\n",
       "      <td>1.000000</td>\n",
       "      <td>1.000000</td>\n",
       "    </tr>\n",
       "  </tbody>\n",
       "</table>\n",
       "<p>8 rows × 32 columns</p>\n",
       "</div>"
      ],
      "text/plain": [
       "                age       default        balance       housing          loan  \\\n",
       "count  45211.000000  45211.000000   45211.000000  45211.000000  45211.000000   \n",
       "mean      40.936210      0.018027    1362.272058      0.555838      0.160226   \n",
       "std       10.618762      0.133049    3044.765829      0.496878      0.366820   \n",
       "min       18.000000      0.000000   -8019.000000      0.000000      0.000000   \n",
       "25%       33.000000      0.000000      72.000000      0.000000      0.000000   \n",
       "50%       39.000000      0.000000     448.000000      1.000000      0.000000   \n",
       "75%       48.000000      0.000000    1428.000000      1.000000      0.000000   \n",
       "max       95.000000      1.000000  102127.000000      1.000000      1.000000   \n",
       "\n",
       "           duration      campaign         pdays      previous   poutfailure  \\\n",
       "count  45211.000000  45211.000000  45211.000000  45211.000000  45211.000000   \n",
       "mean     258.163080      2.763841     40.197828      0.580323      0.108403   \n",
       "std      257.527812      3.098021    100.128746      2.303441      0.310892   \n",
       "min        0.000000      1.000000     -1.000000      0.000000      0.000000   \n",
       "25%      103.000000      1.000000     -1.000000      0.000000      0.000000   \n",
       "50%      180.000000      2.000000     -1.000000      0.000000      0.000000   \n",
       "75%      319.000000      3.000000     -1.000000      0.000000      0.000000   \n",
       "max     4918.000000     63.000000    871.000000    275.000000      1.000000   \n",
       "\n",
       "       ...   johousemaid  jomanagement     joretired  joself.employed  \\\n",
       "count  ...  45211.000000  45211.000000  45211.000000     45211.000000   \n",
       "mean   ...      0.027427      0.209197      0.050076         0.034925   \n",
       "std    ...      0.163326      0.406740      0.218105         0.183592   \n",
       "min    ...      0.000000      0.000000      0.000000         0.000000   \n",
       "25%    ...      0.000000      0.000000      0.000000         0.000000   \n",
       "50%    ...      0.000000      0.000000      0.000000         0.000000   \n",
       "75%    ...      0.000000      0.000000      0.000000         0.000000   \n",
       "max    ...      1.000000      1.000000      1.000000         1.000000   \n",
       "\n",
       "        joservices     jostudent  jotechnician  jounemployed     jounknown  \\\n",
       "count  45211.00000  45211.000000  45211.000000  45211.000000  45211.000000   \n",
       "mean       0.09188      0.020747      0.168034      0.028820      0.006370   \n",
       "std        0.28886      0.142538      0.373901      0.167303      0.079559   \n",
       "min        0.00000      0.000000      0.000000      0.000000      0.000000   \n",
       "25%        0.00000      0.000000      0.000000      0.000000      0.000000   \n",
       "50%        0.00000      0.000000      0.000000      0.000000      0.000000   \n",
       "75%        0.00000      0.000000      0.000000      0.000000      0.000000   \n",
       "max        1.00000      1.000000      1.000000      1.000000      1.000000   \n",
       "\n",
       "                  y  \n",
       "count  45211.000000  \n",
       "mean       0.116985  \n",
       "std        0.321406  \n",
       "min        0.000000  \n",
       "25%        0.000000  \n",
       "50%        0.000000  \n",
       "75%        0.000000  \n",
       "max        1.000000  \n",
       "\n",
       "[8 rows x 32 columns]"
      ]
     },
     "execution_count": 64,
     "metadata": {},
     "output_type": "execute_result"
    }
   ],
   "source": [
    "data.describe()"
   ]
  },
  {
   "cell_type": "markdown",
   "metadata": {},
   "source": [
    "Checking For Missing Values"
   ]
  },
  {
   "cell_type": "code",
   "execution_count": 65,
   "metadata": {},
   "outputs": [
    {
     "name": "stdout",
     "output_type": "stream",
     "text": [
      "<class 'pandas.core.frame.DataFrame'>\n",
      "RangeIndex: 45211 entries, 0 to 45210\n",
      "Data columns (total 32 columns):\n",
      " #   Column           Non-Null Count  Dtype\n",
      "---  ------           --------------  -----\n",
      " 0   age              45211 non-null  int64\n",
      " 1   default          45211 non-null  int64\n",
      " 2   balance          45211 non-null  int64\n",
      " 3   housing          45211 non-null  int64\n",
      " 4   loan             45211 non-null  int64\n",
      " 5   duration         45211 non-null  int64\n",
      " 6   campaign         45211 non-null  int64\n",
      " 7   pdays            45211 non-null  int64\n",
      " 8   previous         45211 non-null  int64\n",
      " 9   poutfailure      45211 non-null  int64\n",
      " 10  poutother        45211 non-null  int64\n",
      " 11  poutsuccess      45211 non-null  int64\n",
      " 12  poutunknown      45211 non-null  int64\n",
      " 13  con_cellular     45211 non-null  int64\n",
      " 14  con_telephone    45211 non-null  int64\n",
      " 15  con_unknown      45211 non-null  int64\n",
      " 16  divorced         45211 non-null  int64\n",
      " 17  married          45211 non-null  int64\n",
      " 18  single           45211 non-null  int64\n",
      " 19  joadmin.         45211 non-null  int64\n",
      " 20  joblue.collar    45211 non-null  int64\n",
      " 21  joentrepreneur   45211 non-null  int64\n",
      " 22  johousemaid      45211 non-null  int64\n",
      " 23  jomanagement     45211 non-null  int64\n",
      " 24  joretired        45211 non-null  int64\n",
      " 25  joself.employed  45211 non-null  int64\n",
      " 26  joservices       45211 non-null  int64\n",
      " 27  jostudent        45211 non-null  int64\n",
      " 28  jotechnician     45211 non-null  int64\n",
      " 29  jounemployed     45211 non-null  int64\n",
      " 30  jounknown        45211 non-null  int64\n",
      " 31  y                45211 non-null  int64\n",
      "dtypes: int64(32)\n",
      "memory usage: 11.0 MB\n"
     ]
    }
   ],
   "source": [
    "data.info()"
   ]
  },
  {
   "cell_type": "code",
   "execution_count": 66,
   "metadata": {},
   "outputs": [
    {
     "data": {
      "text/plain": [
       "age                0\n",
       "default            0\n",
       "balance            0\n",
       "housing            0\n",
       "loan               0\n",
       "duration           0\n",
       "campaign           0\n",
       "pdays              0\n",
       "previous           0\n",
       "poutfailure        0\n",
       "poutother          0\n",
       "poutsuccess        0\n",
       "poutunknown        0\n",
       "con_cellular       0\n",
       "con_telephone      0\n",
       "con_unknown        0\n",
       "divorced           0\n",
       "married            0\n",
       "single             0\n",
       "joadmin.           0\n",
       "joblue.collar      0\n",
       "joentrepreneur     0\n",
       "johousemaid        0\n",
       "jomanagement       0\n",
       "joretired          0\n",
       "joself.employed    0\n",
       "joservices         0\n",
       "jostudent          0\n",
       "jotechnician       0\n",
       "jounemployed       0\n",
       "jounknown          0\n",
       "y                  0\n",
       "dtype: int64"
      ]
     },
     "execution_count": 66,
     "metadata": {},
     "output_type": "execute_result"
    }
   ],
   "source": [
    "data.isnull().sum()"
   ]
  },
  {
   "cell_type": "markdown",
   "metadata": {},
   "source": [
    "Understand the Data Using Plots"
   ]
  },
  {
   "cell_type": "markdown",
   "metadata": {},
   "source": [
    "PLOTS ==> count plot : Shows the count of observations in Each Categorical bin using bars."
   ]
  },
  {
   "cell_type": "code",
   "execution_count": 135,
   "metadata": {},
   "outputs": [
    {
     "data": {
      "text/plain": [
       "<AxesSubplot:xlabel='y', ylabel='count'>"
      ]
     },
     "execution_count": 135,
     "metadata": {},
     "output_type": "execute_result"
    },
    {
     "data": {
      "image/png": "[encoded data removed]",
      "text/plain": [
       "<Figure size 432x288 with 1 Axes>"
      ]
     },
     "metadata": {
      "needs_background": "light"
     },
     "output_type": "display_data"
    }
   ],
   "source": [
    "import seaborn as sns\n",
    "sns.countplot(x='y',data=data,palette='hls')"
   ]
  },
  {
   "cell_type": "code",
   "execution_count": 136,
   "metadata": {},
   "outputs": [
    {
     "data": {
      "text/plain": [
       "array([0, 1], dtype=int64)"
      ]
     },
     "execution_count": 136,
     "metadata": {},
     "output_type": "execute_result"
    }
   ],
   "source": [
    "data.y.unique()"
   ]
  },
  {
   "cell_type": "markdown",
   "metadata": {},
   "source": [
    "The above plot is a variable of \"Y\" which was target variable which has 40 thousand of 0's  and 5 thousand of 1's"
   ]
  },
  {
   "cell_type": "code",
   "execution_count": 137,
   "metadata": {},
   "outputs": [
    {
     "data": {
      "text/plain": [
       "<AxesSubplot:xlabel='age', ylabel='count'>"
      ]
     },
     "execution_count": 137,
     "metadata": {},
     "output_type": "execute_result"
    },
    {
     "data": {
      "image/png": "[encoded data removed]",
      "text/plain": [
       "<Figure size 432x288 with 1 Axes>"
      ]
     },
     "metadata": {
      "needs_background": "light"
     },
     "output_type": "display_data"
    }
   ],
   "source": [
    "sns.countplot(x='age',palette='hls',data=data)"
   ]
  },
  {
   "cell_type": "code",
   "execution_count": null,
   "metadata": {},
   "outputs": [
    {
     "data": {
      "text/plain": [
       "<AxesSubplot:xlabel='balance', ylabel='count'>"
      ]
     },
     "execution_count": 138,
     "metadata": {},
     "output_type": "execute_result"
    }
   ],
   "source": [
    "sns.countplot(x='balance',palette='hls',data=data)"
   ]
  },
  {
   "cell_type": "code",
   "execution_count": null,
   "metadata": {},
   "outputs": [],
   "source": [
    "sns.countplot(x='single',palette='hls',data=data)"
   ]
  },
  {
   "cell_type": "code",
   "execution_count": null,
   "metadata": {},
   "outputs": [],
   "source": [
    "sns.countplot(x='married',palette='hls',data=data)"
   ]
  },
  {
   "cell_type": "code",
   "execution_count": null,
   "metadata": {},
   "outputs": [],
   "source": [
    "sns.countplot(x='divorced',palette='hls',data=data)"
   ]
  },
  {
   "cell_type": "code",
   "execution_count": null,
   "metadata": {},
   "outputs": [],
   "source": [
    "y=data.iloc[:,-1:]\n",
    "y.shape"
   ]
  },
  {
   "cell_type": "code",
   "execution_count": null,
   "metadata": {},
   "outputs": [],
   "source": [
    "x=data.iloc[:,:-1]"
   ]
  },
  {
   "cell_type": "code",
   "execution_count": null,
   "metadata": {},
   "outputs": [],
   "source": [
    "x"
   ]
  },
  {
   "cell_type": "code",
   "execution_count": null,
   "metadata": {},
   "outputs": [],
   "source": []
  },
  {
   "cell_type": "code",
   "execution_count": null,
   "metadata": {},
   "outputs": [],
   "source": [
    "from sklearn.linear_model import LogisticRegression"
   ]
  },
  {
   "cell_type": "code",
   "execution_count": null,
   "metadata": {},
   "outputs": [],
   "source": [
    "classifier=LogisticRegression()\n",
    "classifier.fit(x,y)"
   ]
  },
  {
   "cell_type": "code",
   "execution_count": null,
   "metadata": {},
   "outputs": [],
   "source": [
    "y_pred=classifier.predict(x)\n",
    "y_pred"
   ]
  },
  {
   "cell_type": "code",
   "execution_count": null,
   "metadata": {},
   "outputs": [],
   "source": [
    "from sklearn.metrics import classification_report\n",
    "from sklearn.metrics import confusion_matrix"
   ]
  },
  {
   "cell_type": "code",
   "execution_count": null,
   "metadata": {},
   "outputs": [],
   "source": [
    "confusion_matrix=confusion_matrix(y,y_pred)\n",
    "print(confusion_matrix)"
   ]
  },
  {
   "cell_type": "code",
   "execution_count": null,
   "metadata": {},
   "outputs": [],
   "source": [
    "((39165+1177)/(39165+757+4112+1177))*100\n"
   ]
  },
  {
   "cell_type": "code",
   "execution_count": null,
   "metadata": {},
   "outputs": [],
   "source": [
    "y_proba=classifier.predict_proba(x)\n",
    "y_proba\n"
   ]
  },
  {
   "cell_type": "code",
   "execution_count": null,
   "metadata": {},
   "outputs": [],
   "source": [
    "classifier.coef_"
   ]
  },
  {
   "cell_type": "code",
   "execution_count": null,
   "metadata": {},
   "outputs": [],
   "source": [
    "act_pred=pd.DataFrame({'actual':y,'Predicted':y_pred})\n",
    "act_pred"
   ]
  },
  {
   "cell_type": "code",
   "execution_count": null,
   "metadata": {},
   "outputs": [],
   "source": []
  },
  {
   "cell_type": "code",
   "execution_count": null,
   "metadata": {},
   "outputs": [],
   "source": []
  },
  {
   "cell_type": "code",
   "execution_count": null,
   "metadata": {},
   "outputs": [],
   "source": []
  },
  {
   "cell_type": "code",
   "execution_count": null,
   "metadata": {},
   "outputs": [],
   "source": []
  },
  {
   "cell_type": "code",
   "execution_count": null,
   "metadata": {},
   "outputs": [],
   "source": []
  },
  {
   "cell_type": "code",
   "execution_count": null,
   "metadata": {},
   "outputs": [],
   "source": []
  }
 ],
 "metadata": {
  "kernelspec": {
   "display_name": "Python 3",
   "language": "python",
   "name": "python3"
  },
  "language_info": {
   "codemirror_mode": {
    "name": "ipython",
    "version": 3
   },
   "file_extension": ".py",
   "mimetype": "text/x-python",
   "name": "python",
   "nbconvert_exporter": "python",
   "pygments_lexer": "ipython3",
   "version": "3.8.5"
  }
 },
 "nbformat": 4,
 "nbformat_minor": 4
}
