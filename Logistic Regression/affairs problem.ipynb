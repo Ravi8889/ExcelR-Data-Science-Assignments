{
 "cells": [
  {
   "cell_type": "code",
   "execution_count": 2,
   "metadata": {},
   "outputs": [],
   "source": [
    "import pandas as pd\n",
    "import numpy as np\n",
    "import seaborn as sns\n",
    "from sklearn.linear_model import LogisticRegression"
   ]
  },
  {
   "cell_type": "code",
   "execution_count": 3,
   "metadata": {},
   "outputs": [],
   "source": [
    "df=pd.read_csv(r\"D:\\Excel R\\Data Science Assignments\\Logistic Regression\\affairs.csv\")"
   ]
  },
  {
   "cell_type": "code",
   "execution_count": 4,
   "metadata": {},
   "outputs": [
    {
     "data": {
      "text/html": [
       "<div>\n",
       "<style scoped>\n",
       "    .dataframe tbody tr th:only-of-type {\n",
       "        vertical-align: middle;\n",
       "    }\n",
       "\n",
       "    .dataframe tbody tr th {\n",
       "        vertical-align: top;\n",
       "    }\n",
       "\n",
       "    .dataframe thead th {\n",
       "        text-align: right;\n",
       "    }\n",
       "</style>\n",
       "<table border=\"1\" class=\"dataframe\">\n",
       "  <thead>\n",
       "    <tr style=\"text-align: right;\">\n",
       "      <th></th>\n",
       "      <th>Unnamed: 0</th>\n",
       "      <th>naffairs</th>\n",
       "      <th>kids</th>\n",
       "      <th>vryunhap</th>\n",
       "      <th>unhap</th>\n",
       "      <th>avgmarr</th>\n",
       "      <th>hapavg</th>\n",
       "      <th>vryhap</th>\n",
       "      <th>antirel</th>\n",
       "      <th>notrel</th>\n",
       "      <th>slghtrel</th>\n",
       "      <th>smerel</th>\n",
       "      <th>vryrel</th>\n",
       "      <th>yrsmarr1</th>\n",
       "      <th>yrsmarr2</th>\n",
       "      <th>yrsmarr3</th>\n",
       "      <th>yrsmarr4</th>\n",
       "      <th>yrsmarr5</th>\n",
       "      <th>yrsmarr6</th>\n",
       "    </tr>\n",
       "  </thead>\n",
       "  <tbody>\n",
       "    <tr>\n",
       "      <th>0</th>\n",
       "      <td>1</td>\n",
       "      <td>0</td>\n",
       "      <td>0</td>\n",
       "      <td>0</td>\n",
       "      <td>0</td>\n",
       "      <td>0</td>\n",
       "      <td>1</td>\n",
       "      <td>0</td>\n",
       "      <td>0</td>\n",
       "      <td>0</td>\n",
       "      <td>1</td>\n",
       "      <td>0</td>\n",
       "      <td>0</td>\n",
       "      <td>0</td>\n",
       "      <td>0</td>\n",
       "      <td>0</td>\n",
       "      <td>0</td>\n",
       "      <td>1</td>\n",
       "      <td>0</td>\n",
       "    </tr>\n",
       "    <tr>\n",
       "      <th>1</th>\n",
       "      <td>2</td>\n",
       "      <td>0</td>\n",
       "      <td>0</td>\n",
       "      <td>0</td>\n",
       "      <td>0</td>\n",
       "      <td>0</td>\n",
       "      <td>1</td>\n",
       "      <td>0</td>\n",
       "      <td>0</td>\n",
       "      <td>0</td>\n",
       "      <td>0</td>\n",
       "      <td>1</td>\n",
       "      <td>0</td>\n",
       "      <td>0</td>\n",
       "      <td>0</td>\n",
       "      <td>1</td>\n",
       "      <td>0</td>\n",
       "      <td>0</td>\n",
       "      <td>0</td>\n",
       "    </tr>\n",
       "    <tr>\n",
       "      <th>2</th>\n",
       "      <td>3</td>\n",
       "      <td>3</td>\n",
       "      <td>0</td>\n",
       "      <td>0</td>\n",
       "      <td>0</td>\n",
       "      <td>0</td>\n",
       "      <td>1</td>\n",
       "      <td>0</td>\n",
       "      <td>0</td>\n",
       "      <td>0</td>\n",
       "      <td>1</td>\n",
       "      <td>0</td>\n",
       "      <td>0</td>\n",
       "      <td>0</td>\n",
       "      <td>1</td>\n",
       "      <td>0</td>\n",
       "      <td>0</td>\n",
       "      <td>0</td>\n",
       "      <td>0</td>\n",
       "    </tr>\n",
       "    <tr>\n",
       "      <th>3</th>\n",
       "      <td>4</td>\n",
       "      <td>0</td>\n",
       "      <td>1</td>\n",
       "      <td>0</td>\n",
       "      <td>0</td>\n",
       "      <td>0</td>\n",
       "      <td>1</td>\n",
       "      <td>0</td>\n",
       "      <td>1</td>\n",
       "      <td>0</td>\n",
       "      <td>0</td>\n",
       "      <td>0</td>\n",
       "      <td>0</td>\n",
       "      <td>0</td>\n",
       "      <td>0</td>\n",
       "      <td>0</td>\n",
       "      <td>0</td>\n",
       "      <td>0</td>\n",
       "      <td>1</td>\n",
       "    </tr>\n",
       "    <tr>\n",
       "      <th>4</th>\n",
       "      <td>5</td>\n",
       "      <td>3</td>\n",
       "      <td>1</td>\n",
       "      <td>0</td>\n",
       "      <td>0</td>\n",
       "      <td>0</td>\n",
       "      <td>0</td>\n",
       "      <td>1</td>\n",
       "      <td>0</td>\n",
       "      <td>0</td>\n",
       "      <td>1</td>\n",
       "      <td>0</td>\n",
       "      <td>0</td>\n",
       "      <td>0</td>\n",
       "      <td>0</td>\n",
       "      <td>1</td>\n",
       "      <td>0</td>\n",
       "      <td>0</td>\n",
       "      <td>0</td>\n",
       "    </tr>\n",
       "  </tbody>\n",
       "</table>\n",
       "</div>"
      ],
      "text/plain": [
       "   Unnamed: 0  naffairs  kids  vryunhap  unhap  avgmarr  hapavg  vryhap  \\\n",
       "0           1         0     0         0      0        0       1       0   \n",
       "1           2         0     0         0      0        0       1       0   \n",
       "2           3         3     0         0      0        0       1       0   \n",
       "3           4         0     1         0      0        0       1       0   \n",
       "4           5         3     1         0      0        0       0       1   \n",
       "\n",
       "   antirel  notrel  slghtrel  smerel  vryrel  yrsmarr1  yrsmarr2  yrsmarr3  \\\n",
       "0        0       0         1       0       0         0         0         0   \n",
       "1        0       0         0       1       0         0         0         1   \n",
       "2        0       0         1       0       0         0         1         0   \n",
       "3        1       0         0       0       0         0         0         0   \n",
       "4        0       0         1       0       0         0         0         1   \n",
       "\n",
       "   yrsmarr4  yrsmarr5  yrsmarr6  \n",
       "0         0         1         0  \n",
       "1         0         0         0  \n",
       "2         0         0         0  \n",
       "3         0         0         1  \n",
       "4         0         0         0  "
      ]
     },
     "execution_count": 4,
     "metadata": {},
     "output_type": "execute_result"
    }
   ],
   "source": [
    "df.head()"
   ]
  },
  {
   "cell_type": "code",
   "execution_count": 5,
   "metadata": {},
   "outputs": [
    {
     "data": {
      "text/plain": [
       "(601, 19)"
      ]
     },
     "execution_count": 5,
     "metadata": {},
     "output_type": "execute_result"
    }
   ],
   "source": [
    "df.shape"
   ]
  },
  {
   "cell_type": "markdown",
   "metadata": {},
   "source": [
    "4 Bussiness Moments"
   ]
  },
  {
   "cell_type": "code",
   "execution_count": 6,
   "metadata": {},
   "outputs": [
    {
     "data": {
      "text/plain": [
       "Unnamed: 0    301.000000\n",
       "naffairs        1.455907\n",
       "kids            0.715474\n",
       "vryunhap        0.026622\n",
       "unhap           0.109817\n",
       "avgmarr         0.154742\n",
       "hapavg          0.322795\n",
       "vryhap          0.386023\n",
       "antirel         0.079867\n",
       "notrel          0.272879\n",
       "slghtrel        0.214642\n",
       "smerel          0.316140\n",
       "vryrel          0.116473\n",
       "yrsmarr1        0.086522\n",
       "yrsmarr2        0.146423\n",
       "yrsmarr3        0.174709\n",
       "yrsmarr4        0.136439\n",
       "yrsmarr5        0.116473\n",
       "yrsmarr6        0.339434\n",
       "dtype: float64"
      ]
     },
     "execution_count": 6,
     "metadata": {},
     "output_type": "execute_result"
    }
   ],
   "source": [
    "df.mean()"
   ]
  },
  {
   "cell_type": "code",
   "execution_count": 7,
   "metadata": {},
   "outputs": [
    {
     "data": {
      "text/plain": [
       "Unnamed: 0    173.638033\n",
       "naffairs        3.298758\n",
       "kids            0.451564\n",
       "vryunhap        0.161111\n",
       "unhap           0.312922\n",
       "avgmarr         0.361960\n",
       "hapavg          0.467935\n",
       "vryhap          0.487242\n",
       "antirel         0.271313\n",
       "notrel          0.445810\n",
       "slghtrel        0.410916\n",
       "smerel          0.465355\n",
       "vryrel          0.321058\n",
       "yrsmarr1        0.281368\n",
       "yrsmarr2        0.353824\n",
       "yrsmarr3        0.380034\n",
       "yrsmarr4        0.343540\n",
       "yrsmarr5        0.321058\n",
       "yrsmarr6        0.473912\n",
       "dtype: float64"
      ]
     },
     "execution_count": 7,
     "metadata": {},
     "output_type": "execute_result"
    }
   ],
   "source": [
    "df.std()"
   ]
  },
  {
   "cell_type": "code",
   "execution_count": 8,
   "metadata": {},
   "outputs": [
    {
     "data": {
      "text/plain": [
       "Unnamed: 0    30150.166667\n",
       "naffairs         10.881803\n",
       "kids              0.203910\n",
       "vryunhap          0.025957\n",
       "unhap             0.097920\n",
       "avgmarr           0.131015\n",
       "hapavg            0.218963\n",
       "vryhap            0.237404\n",
       "antirel           0.073611\n",
       "notrel            0.198747\n",
       "slghtrel          0.168852\n",
       "smerel            0.216556\n",
       "vryrel            0.103078\n",
       "yrsmarr1          0.079168\n",
       "yrsmarr2          0.125191\n",
       "yrsmarr3          0.144426\n",
       "yrsmarr4          0.118020\n",
       "yrsmarr5          0.103078\n",
       "yrsmarr6          0.224592\n",
       "dtype: float64"
      ]
     },
     "execution_count": 8,
     "metadata": {},
     "output_type": "execute_result"
    }
   ],
   "source": [
    "df.var()"
   ]
  },
  {
   "cell_type": "code",
   "execution_count": 9,
   "metadata": {},
   "outputs": [
    {
     "data": {
      "text/plain": [
       "Unnamed: 0    301.0\n",
       "naffairs        0.0\n",
       "kids            1.0\n",
       "vryunhap        0.0\n",
       "unhap           0.0\n",
       "avgmarr         0.0\n",
       "hapavg          0.0\n",
       "vryhap          0.0\n",
       "antirel         0.0\n",
       "notrel          0.0\n",
       "slghtrel        0.0\n",
       "smerel          0.0\n",
       "vryrel          0.0\n",
       "yrsmarr1        0.0\n",
       "yrsmarr2        0.0\n",
       "yrsmarr3        0.0\n",
       "yrsmarr4        0.0\n",
       "yrsmarr5        0.0\n",
       "yrsmarr6        0.0\n",
       "dtype: float64"
      ]
     },
     "execution_count": 9,
     "metadata": {},
     "output_type": "execute_result"
    }
   ],
   "source": [
    "df.median()"
   ]
  },
  {
   "cell_type": "code",
   "execution_count": 10,
   "metadata": {},
   "outputs": [
    {
     "data": {
      "text/plain": [
       "Unnamed: 0    0.000000\n",
       "naffairs      2.346998\n",
       "kids         -0.957532\n",
       "vryunhap      5.896039\n",
       "unhap         2.502131\n",
       "avgmarr       1.914083\n",
       "hapavg        0.759919\n",
       "vryhap        0.469407\n",
       "antirel       3.107379\n",
       "notrel        1.022318\n",
       "slghtrel      1.393524\n",
       "smerel        0.792831\n",
       "vryrel        2.397125\n",
       "yrsmarr1      2.948863\n",
       "yrsmarr2      2.005280\n",
       "yrsmarr3      1.717621\n",
       "yrsmarr4      2.123620\n",
       "yrsmarr5      2.397125\n",
       "yrsmarr6      0.679881\n",
       "dtype: float64"
      ]
     },
     "execution_count": 10,
     "metadata": {},
     "output_type": "execute_result"
    }
   ],
   "source": [
    "df.skew()"
   ]
  },
  {
   "cell_type": "code",
   "execution_count": 11,
   "metadata": {},
   "outputs": [
    {
     "data": {
      "text/plain": [
       "Unnamed: 0    -1.200000\n",
       "naffairs       4.256882\n",
       "kids          -1.086759\n",
       "vryunhap      32.872664\n",
       "unhap          4.274874\n",
       "avgmarr        1.669258\n",
       "hapavg        -1.427283\n",
       "vryhap        -1.785610\n",
       "antirel        7.681355\n",
       "notrel        -0.958065\n",
       "slghtrel      -0.058297\n",
       "smerel        -1.376009\n",
       "vryrel         3.758705\n",
       "yrsmarr1       6.718138\n",
       "yrsmarr2       2.027884\n",
       "yrsmarr3       0.953383\n",
       "yrsmarr4       2.518132\n",
       "yrsmarr5       3.758705\n",
       "yrsmarr6      -1.542907\n",
       "dtype: float64"
      ]
     },
     "execution_count": 11,
     "metadata": {},
     "output_type": "execute_result"
    }
   ],
   "source": [
    "df.kurtosis()"
   ]
  },
  {
   "cell_type": "markdown",
   "metadata": {},
   "source": [
    "Preprocessing the data and Checking for Missing values"
   ]
  },
  {
   "cell_type": "code",
   "execution_count": 12,
   "metadata": {},
   "outputs": [
    {
     "name": "stdout",
     "output_type": "stream",
     "text": [
      "<class 'pandas.core.frame.DataFrame'>\n",
      "RangeIndex: 601 entries, 0 to 600\n",
      "Data columns (total 19 columns):\n",
      " #   Column      Non-Null Count  Dtype\n",
      "---  ------      --------------  -----\n",
      " 0   Unnamed: 0  601 non-null    int64\n",
      " 1   naffairs    601 non-null    int64\n",
      " 2   kids        601 non-null    int64\n",
      " 3   vryunhap    601 non-null    int64\n",
      " 4   unhap       601 non-null    int64\n",
      " 5   avgmarr     601 non-null    int64\n",
      " 6   hapavg      601 non-null    int64\n",
      " 7   vryhap      601 non-null    int64\n",
      " 8   antirel     601 non-null    int64\n",
      " 9   notrel      601 non-null    int64\n",
      " 10  slghtrel    601 non-null    int64\n",
      " 11  smerel      601 non-null    int64\n",
      " 12  vryrel      601 non-null    int64\n",
      " 13  yrsmarr1    601 non-null    int64\n",
      " 14  yrsmarr2    601 non-null    int64\n",
      " 15  yrsmarr3    601 non-null    int64\n",
      " 16  yrsmarr4    601 non-null    int64\n",
      " 17  yrsmarr5    601 non-null    int64\n",
      " 18  yrsmarr6    601 non-null    int64\n",
      "dtypes: int64(19)\n",
      "memory usage: 89.3 KB\n"
     ]
    }
   ],
   "source": [
    "df.info()"
   ]
  },
  {
   "cell_type": "code",
   "execution_count": 13,
   "metadata": {},
   "outputs": [
    {
     "data": {
      "text/plain": [
       "Unnamed: 0    0\n",
       "naffairs      0\n",
       "kids          0\n",
       "vryunhap      0\n",
       "unhap         0\n",
       "avgmarr       0\n",
       "hapavg        0\n",
       "vryhap        0\n",
       "antirel       0\n",
       "notrel        0\n",
       "slghtrel      0\n",
       "smerel        0\n",
       "vryrel        0\n",
       "yrsmarr1      0\n",
       "yrsmarr2      0\n",
       "yrsmarr3      0\n",
       "yrsmarr4      0\n",
       "yrsmarr5      0\n",
       "yrsmarr6      0\n",
       "dtype: int64"
      ]
     },
     "execution_count": 13,
     "metadata": {},
     "output_type": "execute_result"
    }
   ],
   "source": [
    "df.isnull().sum()"
   ]
  },
  {
   "cell_type": "markdown",
   "metadata": {},
   "source": [
    "Since from above data we didn't find any Missing values or Nan vlues "
   ]
  },
  {
   "cell_type": "markdown",
   "metadata": {},
   "source": [
    "# Plots"
   ]
  },
  {
   "cell_type": "code",
   "execution_count": 15,
   "metadata": {},
   "outputs": [
    {
     "data": {
      "text/plain": [
       "<AxesSubplot:xlabel='naffairs', ylabel='count'>"
      ]
     },
     "execution_count": 15,
     "metadata": {},
     "output_type": "execute_result"
    },
    {
     "data": {
      "image/png": "[encoded data removed]",
      "text/plain": [
       "<Figure size 432x288 with 1 Axes>"
      ]
     },
     "metadata": {
      "needs_background": "light"
     },
     "output_type": "display_data"
    }
   ],
   "source": [
    "sns.countplot(x='naffairs',data=df,palette='hls')"
   ]
  },
  {
   "cell_type": "code",
   "execution_count": null,
   "metadata": {},
   "outputs": [],
   "source": [
    "# here There is an "
   ]
  },
  {
   "cell_type": "code",
   "execution_count": null,
   "metadata": {},
   "outputs": [],
   "source": []
  },
  {
   "cell_type": "code",
   "execution_count": null,
   "metadata": {},
   "outputs": [],
   "source": []
  },
  {
   "cell_type": "code",
   "execution_count": null,
   "metadata": {},
   "outputs": [],
   "source": []
  },
  {
   "cell_type": "code",
   "execution_count": null,
   "metadata": {},
   "outputs": [],
   "source": []
  },
  {
   "cell_type": "code",
   "execution_count": null,
   "metadata": {},
   "outputs": [],
   "source": []
  },
  {
   "cell_type": "code",
   "execution_count": null,
   "metadata": {},
   "outputs": [],
   "source": []
  },
  {
   "cell_type": "code",
   "execution_count": null,
   "metadata": {},
   "outputs": [],
   "source": []
  },
  {
   "cell_type": "code",
   "execution_count": null,
   "metadata": {},
   "outputs": [],
   "source": []
  },
  {
   "cell_type": "code",
   "execution_count": null,
   "metadata": {},
   "outputs": [],
   "source": []
  }
 ],
 "metadata": {
  "kernelspec": {
   "display_name": "Python 3",
   "language": "python",
   "name": "python3"
  },
  "language_info": {
   "codemirror_mode": {
    "name": "ipython",
    "version": 3
   },
   "file_extension": ".py",
   "mimetype": "text/x-python",
   "name": "python",
   "nbconvert_exporter": "python",
   "pygments_lexer": "ipython3",
   "version": "3.8.5"
  }
 },
 "nbformat": 4,
 "nbformat_minor": 4
}
